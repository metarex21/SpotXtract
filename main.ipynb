{
 "cells": [
  {
   "cell_type": "markdown",
   "metadata": {},
   "source": [
    "# **Spotify Streaming History Extractor**"
   ]
  },
  {
   "cell_type": "markdown",
   "metadata": {},
   "source": [
    "----"
   ]
  },
  {
   "cell_type": "markdown",
   "metadata": {},
   "source": [
    "## Step 1: Follow the [\"request.md\"](./request.md) "
   ]
  },
  {
   "cell_type": "markdown",
   "metadata": {},
   "source": [
    "#### for requesting spotify for your data(music streaming history)"
   ]
  },
  {
   "cell_type": "markdown",
   "metadata": {},
   "source": [
    "--------------------------------------------------------------------------"
   ]
  },
  {
   "cell_type": "markdown",
   "metadata": {},
   "source": [
    "## Step 2: Create a Spotify App (get Client ID and Secret)"
   ]
  },
  {
   "cell_type": "markdown",
   "metadata": {},
   "source": [
    "#### follow this [Tutorial](https://www.youtube.com/watch?v=WHugvJ0YR5I) (ignore the funky music, lol)"
   ]
  },
  {
   "cell_type": "markdown",
   "metadata": {},
   "source": [
    "----"
   ]
  },
  {
   "cell_type": "markdown",
   "metadata": {},
   "source": [
    "## Step 3: Paste your Client ID and Secret here"
   ]
  },
  {
   "cell_type": "code",
   "execution_count": 23,
   "metadata": {},
   "outputs": [],
   "source": [
    "client_id = \"enter your client_id here within the double quotes\"\n",
    "client_secret = \"enter your client_secret here within the double quotes\"\n",
    "\n",
    "import configparser\n",
    "config = configparser.ConfigParser()\n",
    "config['DEFAULT'] = {'client_id': client_id, 'client_secret': client_secret}\n",
    "\n",
    "with open('config.ini', 'w') as config_file:\n",
    "    config.write(config_file)\n"
   ]
  },
  {
   "cell_type": "markdown",
   "metadata": {},
   "source": [
    "## Step 3: Combine the JSON files. (StreamingHistory)\n"
   ]
  },
  {
   "cell_type": "code",
   "execution_count": 19,
   "metadata": {},
   "outputs": [],
   "source": [
    "import json\n",
    "import os\n",
    "combined_data = []\n",
    "\n",
    "# Loop through each file\n",
    "for i in range(7):\n",
    "    filename = f\"./json/StreamingHistory{i}.json\"\n",
    "\n",
    "    with open(filename, 'r', encoding='utf-8') as file:\n",
    "        data = json.load(file)\n",
    "        combined_data.extend(data)\n",
    "\n",
    "# Save the combined data to a new file\n",
    "with open(\"TotalStreamingHistory.json\", 'w', encoding='utf-8') as file:\n",
    "    json.dump(combined_data, file)\n",
    "    _json=f\"TotalStreamingHistory.json\"\n"
   ]
  },
  {
   "cell_type": "markdown",
   "metadata": {},
   "source": [
    "----"
   ]
  },
  {
   "cell_type": "markdown",
   "metadata": {},
   "source": [
    "## Step 4: Convert the file format to CSV\n"
   ]
  },
  {
   "cell_type": "markdown",
   "metadata": {},
   "source": [
    "   ```  csv files are easier to visualize/work with(personal preference)```"
   ]
  },
  {
   "cell_type": "code",
   "execution_count": 20,
   "metadata": {},
   "outputs": [],
   "source": [
    "import pandas as pd\n",
    "\n",
    "# Read JSON file into a DataFrame\n",
    "df = pd.read_json('TotalStreamingHistory.json')\n",
    "\n",
    "# Specify the desired encoding when writing to CSV\n",
    "df.to_csv('TotalStreamingHistory.csv', index=False, encoding='utf-8')\n",
    "os.remove(_json) #removes json file\n"
   ]
  },
  {
   "cell_type": "markdown",
   "metadata": {},
   "source": [
    "----"
   ]
  },
  {
   "cell_type": "markdown",
   "metadata": {},
   "source": [
    "## Step 5: Run it Through the Code!"
   ]
  },
  {
   "cell_type": "markdown",
   "metadata": {},
   "source": [
    "**WARNING:** ```Spotify API``` tends to crash to sometimes, thus I have the CSV file split into 10 batches. By default you should start from 1. However if the code/API crashes mid extraction, you can always start from next batch file :D"
   ]
  },
  {
   "cell_type": "markdown",
   "metadata": {},
   "source": [
    "(I have artificially reduced my dataset for faster processing for an example run)"
   ]
  },
  {
   "cell_type": "code",
   "execution_count": 22,
   "metadata": {},
   "outputs": [
    {
     "name": "stdout",
     "output_type": "stream",
     "text": [
      "CSV file 'ReducedStreamingHistory.csv' successfully split into 10 files.\n"
     ]
    },
    {
     "name": "stderr",
     "output_type": "stream",
     "text": [
      "Processing: 100%|██████████| 10/10 [00:08<00:00,  1.15it/s, file=ReducedStreamingHistory_1.csv]\n",
      "Processing: 100%|██████████| 10/10 [00:08<00:00,  1.17it/s, file=ReducedStreamingHistory_2.csv]\n",
      "Processing: 100%|██████████| 10/10 [00:08<00:00,  1.18it/s, file=ReducedStreamingHistory_3.csv]\n",
      "Processing: 100%|██████████| 10/10 [00:08<00:00,  1.17it/s, file=ReducedStreamingHistory_4.csv]\n",
      "Processing: 100%|██████████| 10/10 [00:08<00:00,  1.20it/s, file=ReducedStreamingHistory_5.csv]\n",
      "Processing: 100%|██████████| 10/10 [00:08<00:00,  1.19it/s, file=ReducedStreamingHistory_6.csv]\n",
      "Processing: 100%|██████████| 10/10 [00:08<00:00,  1.16it/s, file=ReducedStreamingHistory_7.csv]\n",
      "Processing: 100%|██████████| 10/10 [00:08<00:00,  1.18it/s, file=ReducedStreamingHistory_8.csv]\n",
      "Processing: 100%|██████████| 10/10 [00:07<00:00,  1.28it/s, file=ReducedStreamingHistory_9.csv]\n",
      "Processing: 100%|██████████| 16/16 [00:13<00:00,  1.18it/s, file=ReducedStreamingHistory_10.csv]"
     ]
    },
    {
     "name": "stdout",
     "output_type": "stream",
     "text": [
      "CSV files merged into 'Spotify_Song_Attributes.csv'.\n",
      "Successfully deleted additional files.\n"
     ]
    },
    {
     "name": "stderr",
     "output_type": "stream",
     "text": [
      "\n"
     ]
    }
   ],
   "source": [
    "%run script.py"
   ]
  }
 ],
 "metadata": {
  "kernelspec": {
   "display_name": "Python 3",
   "language": "python",
   "name": "python3"
  },
  "language_info": {
   "codemirror_mode": {
    "name": "ipython",
    "version": 3
   },
   "file_extension": ".py",
   "mimetype": "text/x-python",
   "name": "python",
   "nbconvert_exporter": "python",
   "pygments_lexer": "ipython3",
   "version": "3.11.4"
  },
  "orig_nbformat": 4
 },
 "nbformat": 4,
 "nbformat_minor": 2
}
